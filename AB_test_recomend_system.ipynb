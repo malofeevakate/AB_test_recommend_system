{
 "cells": [
  {
   "cell_type": "code",
   "execution_count": 1,
   "id": "34fb4475-3de0-4798-97e0-dd397e3bf68c",
   "metadata": {},
   "outputs": [],
   "source": [
    "import pandas as pd\n",
    "import numpy as np\n",
    "import seaborn as sns\n",
    "from scipy.stats import binomtest, mannwhitneyu"
   ]
  },
  {
   "cell_type": "code",
   "execution_count": 55,
   "id": "bca2386e-fe4e-42ba-8365-f747fc30d77b",
   "metadata": {},
   "outputs": [
    {
     "data": {
      "text/html": [
       "<div>\n",
       "<style scoped>\n",
       "    .dataframe tbody tr th:only-of-type {\n",
       "        vertical-align: middle;\n",
       "    }\n",
       "\n",
       "    .dataframe tbody tr th {\n",
       "        vertical-align: top;\n",
       "    }\n",
       "\n",
       "    .dataframe thead th {\n",
       "        text-align: right;\n",
       "    }\n",
       "</style>\n",
       "<table border=\"1\" class=\"dataframe\">\n",
       "  <thead>\n",
       "    <tr style=\"text-align: right;\">\n",
       "      <th></th>\n",
       "      <th>user_id</th>\n",
       "      <th>post_id</th>\n",
       "      <th>timestamp</th>\n",
       "    </tr>\n",
       "  </thead>\n",
       "  <tbody>\n",
       "    <tr>\n",
       "      <th>0</th>\n",
       "      <td>128381</td>\n",
       "      <td>4704</td>\n",
       "      <td>1654030804</td>\n",
       "    </tr>\n",
       "    <tr>\n",
       "      <th>1</th>\n",
       "      <td>146885</td>\n",
       "      <td>1399</td>\n",
       "      <td>1654030816</td>\n",
       "    </tr>\n",
       "    <tr>\n",
       "      <th>2</th>\n",
       "      <td>50948</td>\n",
       "      <td>2315</td>\n",
       "      <td>1654030828</td>\n",
       "    </tr>\n",
       "    <tr>\n",
       "      <th>3</th>\n",
       "      <td>14661</td>\n",
       "      <td>673</td>\n",
       "      <td>1654030831</td>\n",
       "    </tr>\n",
       "    <tr>\n",
       "      <th>4</th>\n",
       "      <td>37703</td>\n",
       "      <td>1588</td>\n",
       "      <td>1654030833</td>\n",
       "    </tr>\n",
       "  </tbody>\n",
       "</table>\n",
       "</div>"
      ],
      "text/plain": [
       "   user_id  post_id   timestamp\n",
       "0   128381     4704  1654030804\n",
       "1   146885     1399  1654030816\n",
       "2    50948     2315  1654030828\n",
       "3    14661      673  1654030831\n",
       "4    37703     1588  1654030833"
      ]
     },
     "execution_count": 55,
     "metadata": {},
     "output_type": "execute_result"
    }
   ],
   "source": [
    "likes = pd.read_csv('likes.csv')\n",
    "likes.head()"
   ]
  },
  {
   "cell_type": "code",
   "execution_count": 3,
   "id": "8ed602ce-b4dd-40dc-b980-4250aa3a80f9",
   "metadata": {},
   "outputs": [
    {
     "name": "stdout",
     "output_type": "stream",
     "text": [
      "<class 'pandas.core.frame.DataFrame'>\n",
      "RangeIndex: 230176 entries, 0 to 230175\n",
      "Data columns (total 3 columns):\n",
      " #   Column     Non-Null Count   Dtype\n",
      "---  ------     --------------   -----\n",
      " 0   user_id    230176 non-null  int64\n",
      " 1   post_id    230176 non-null  int64\n",
      " 2   timestamp  230176 non-null  int64\n",
      "dtypes: int64(3)\n",
      "memory usage: 5.3 MB\n"
     ]
    }
   ],
   "source": [
    "# пропущенных значений нет\n",
    "# данные о лайках юзеров (когда, кем и какой пост лайкнут)\n",
    "likes.info()"
   ]
  },
  {
   "cell_type": "code",
   "execution_count": 4,
   "id": "bdc1a90d-5ac8-49db-8ead-b55c6ecc7568",
   "metadata": {},
   "outputs": [
    {
     "data": {
      "text/plain": [
       "(58171, 6831)"
      ]
     },
     "execution_count": 4,
     "metadata": {},
     "output_type": "execute_result"
    }
   ],
   "source": [
    "likes.user_id.nunique(), likes.post_id.nunique()"
   ]
  },
  {
   "cell_type": "code",
   "execution_count": 5,
   "id": "2930e941-e03f-44bf-91a9-0e3389ea8c69",
   "metadata": {},
   "outputs": [
    {
     "data": {
      "text/plain": [
       "<AxesSubplot:>"
      ]
     },
     "execution_count": 5,
     "metadata": {},
     "output_type": "execute_result"
    },
    {
     "data": {
      "image/png": "[encoded data removed]",
      "text/plain": [
       "<Figure size 432x288 with 1 Axes>"
      ]
     },
     "metadata": {
      "needs_background": "light"
     },
     "output_type": "display_data"
    }
   ],
   "source": [
    "# число лайков на юзера - логнорм распределение\n",
    "likes_for_users = likes.groupby('user_id', as_index = False).agg({'post_id' : 'count'}).rename(columns = {'post_id' : 'likes_count'})\n",
    "likes_for_users.likes_count.hist()"
   ]
  },
  {
   "cell_type": "code",
   "execution_count": 56,
   "id": "ec01d460-4f62-4b8c-a58e-67cefa682713",
   "metadata": {},
   "outputs": [
    {
     "data": {
      "text/html": [
       "<div>\n",
       "<style scoped>\n",
       "    .dataframe tbody tr th:only-of-type {\n",
       "        vertical-align: middle;\n",
       "    }\n",
       "\n",
       "    .dataframe tbody tr th {\n",
       "        vertical-align: top;\n",
       "    }\n",
       "\n",
       "    .dataframe thead th {\n",
       "        text-align: right;\n",
       "    }\n",
       "</style>\n",
       "<table border=\"1\" class=\"dataframe\">\n",
       "  <thead>\n",
       "    <tr style=\"text-align: right;\">\n",
       "      <th></th>\n",
       "      <th>user_id</th>\n",
       "      <th>exp_group</th>\n",
       "      <th>recommendations</th>\n",
       "      <th>timestamp</th>\n",
       "    </tr>\n",
       "  </thead>\n",
       "  <tbody>\n",
       "    <tr>\n",
       "      <th>0</th>\n",
       "      <td>128381</td>\n",
       "      <td>control</td>\n",
       "      <td>[3644 4529 4704 5294 4808]</td>\n",
       "      <td>1654030803</td>\n",
       "    </tr>\n",
       "    <tr>\n",
       "      <th>1</th>\n",
       "      <td>146885</td>\n",
       "      <td>test</td>\n",
       "      <td>[1399 1076  797 7015 5942]</td>\n",
       "      <td>1654030811</td>\n",
       "    </tr>\n",
       "    <tr>\n",
       "      <th>2</th>\n",
       "      <td>50948</td>\n",
       "      <td>test</td>\n",
       "      <td>[2315 3037 1861 6567 4093]</td>\n",
       "      <td>1654030825</td>\n",
       "    </tr>\n",
       "    <tr>\n",
       "      <th>3</th>\n",
       "      <td>37703</td>\n",
       "      <td>test</td>\n",
       "      <td>[2842 1949  162 1588 6794]</td>\n",
       "      <td>1654030826</td>\n",
       "    </tr>\n",
       "    <tr>\n",
       "      <th>4</th>\n",
       "      <td>14661</td>\n",
       "      <td>test</td>\n",
       "      <td>[2395 5881 5648 3417  673]</td>\n",
       "      <td>1654030829</td>\n",
       "    </tr>\n",
       "  </tbody>\n",
       "</table>\n",
       "</div>"
      ],
      "text/plain": [
       "   user_id exp_group             recommendations   timestamp\n",
       "0   128381   control  [3644 4529 4704 5294 4808]  1654030803\n",
       "1   146885      test  [1399 1076  797 7015 5942]  1654030811\n",
       "2    50948      test  [2315 3037 1861 6567 4093]  1654030825\n",
       "3    37703      test  [2842 1949  162 1588 6794]  1654030826\n",
       "4    14661      test  [2395 5881 5648 3417  673]  1654030829"
      ]
     },
     "execution_count": 56,
     "metadata": {},
     "output_type": "execute_result"
    }
   ],
   "source": [
    "# данные о просмотрах\n",
    "views = pd.read_csv('views.csv')\n",
    "views.head()"
   ]
  },
  {
   "cell_type": "code",
   "execution_count": 9,
   "id": "a778a2b4-2342-4be9-9cb8-be871e041c3f",
   "metadata": {},
   "outputs": [
    {
     "name": "stdout",
     "output_type": "stream",
     "text": [
      "<class 'pandas.core.frame.DataFrame'>\n",
      "RangeIndex: 193295 entries, 0 to 193294\n",
      "Data columns (total 4 columns):\n",
      " #   Column           Non-Null Count   Dtype \n",
      "---  ------           --------------   ----- \n",
      " 0   user_id          193295 non-null  int64 \n",
      " 1   exp_group        193295 non-null  object\n",
      " 2   recommendations  193295 non-null  object\n",
      " 3   timestamp        193295 non-null  int64 \n",
      "dtypes: int64(2), object(2)\n",
      "memory usage: 5.9+ MB\n"
     ]
    }
   ],
   "source": [
    "# без пропущенных значений\n",
    "# данные о просмотрах рекомендаций юзерами из разных тестовых групп\n",
    "views.info()"
   ]
  },
  {
   "cell_type": "code",
   "execution_count": 10,
   "id": "87a328d8-5a0f-410c-b627-a29bbfa9fb03",
   "metadata": {},
   "outputs": [
    {
     "data": {
      "text/plain": [
       "65013"
      ]
     },
     "execution_count": 10,
     "metadata": {},
     "output_type": "execute_result"
    }
   ],
   "source": [
    "views.user_id.nunique()"
   ]
  },
  {
   "cell_type": "code",
   "execution_count": 57,
   "id": "53037e21-83a7-40b4-86c2-f6a673be247a",
   "metadata": {},
   "outputs": [
    {
     "data": {
      "text/plain": [
       "test       0.501394\n",
       "control    0.498606\n",
       "Name: exp_group, dtype: float64"
      ]
     },
     "execution_count": 57,
     "metadata": {},
     "output_type": "execute_result"
    }
   ],
   "source": [
    "# группы примерно равны\n",
    "views.exp_group.value_counts(normalize = True)"
   ]
  },
  {
   "cell_type": "markdown",
   "id": "313def5e-18ec-41bb-8ec5-9d50c457ce1c",
   "metadata": {},
   "source": [
    "Проверим систему сплитования на всякий случай (нет ли юзеров, попавших в обе группы), и если вдруг есть:  \n",
    "    - удалим их из обеих групп в случае незначительного количества,  \n",
    "    - пойдем смотреть систему сплитования в случае большого числа задвоенных пользователей"
   ]
  },
  {
   "cell_type": "code",
   "execution_count": 58,
   "id": "2d5e5573-d086-41ea-93ab-2d42221a3652",
   "metadata": {},
   "outputs": [
    {
     "data": {
      "text/plain": [
       "[142283, 148670, 55788, 25623]"
      ]
     },
     "execution_count": 58,
     "metadata": {},
     "output_type": "execute_result"
    }
   ],
   "source": [
    "# ищем повторных\n",
    "duplicates_users = ((views[['user_id', 'exp_group']] \\\n",
    "  .drop_duplicates()) \\\n",
    " .groupby('user_id', as_index = False) \\\n",
    " .agg({'exp_group' : 'count'}) \\\n",
    " .sort_values(by = 'exp_group', ascending = False) \\\n",
    " .query('exp_group > 1').user_id).tolist()\n",
    "duplicates_users"
   ]
  },
  {
   "cell_type": "code",
   "execution_count": 59,
   "id": "b11a2144-e496-49c0-aee5-f04f322cc19c",
   "metadata": {},
   "outputs": [],
   "source": [
    "# удаляем найденных юзеров из обеих групп\n",
    "def cut_duplicates(df, lst):\n",
    "    for i in range(len(lst)):\n",
    "        df = df.query('user_id != @lst[@i]')\n",
    "    return df\n",
    "\n",
    "likes_cut = cut_duplicates(likes, duplicates_users)\n",
    "views_cut = cut_duplicates(views, duplicates_users)"
   ]
  },
  {
   "cell_type": "code",
   "execution_count": 60,
   "id": "d5e9185b-e0bc-491e-9f15-ca4f532bdbe9",
   "metadata": {},
   "outputs": [
    {
     "data": {
      "text/plain": [
       "test       32659\n",
       "control    32350\n",
       "Name: exp_group, dtype: int64"
      ]
     },
     "execution_count": 60,
     "metadata": {},
     "output_type": "execute_result"
    }
   ],
   "source": [
    "views_cut.groupby('user_id').first().exp_group.value_counts()"
   ]
  },
  {
   "cell_type": "markdown",
   "id": "873cbd9e-1b5b-4b79-886f-13988d51f733",
   "metadata": {},
   "source": [
    "Как будто группы примерно равны, но проверим дополнительно биномиальным тестом"
   ]
  },
  {
   "cell_type": "code",
   "execution_count": 10,
   "id": "01c95d5b-4d25-4218-9f0a-b7dbc01c910c",
   "metadata": {},
   "outputs": [
    {
     "data": {
      "text/plain": [
       "BinomTestResult(k=32659, n=65009, alternative='two-sided', proportion_estimate=0.5023765940100602, pvalue=0.2270501563614752)"
      ]
     },
     "execution_count": 10,
     "metadata": {},
     "output_type": "execute_result"
    }
   ],
   "source": [
    "# нет оснований отклонить гипотезу об отсутствии различий между группами\n",
    "binomtest(32659, 65009, p=0.5)"
   ]
  },
  {
   "cell_type": "markdown",
   "id": "d1cd45a2-2c8c-4df9-bc88-524530a3b624",
   "metadata": {},
   "source": [
    "Группы теста и контроля почти равны по числу юзеров, но различается ли поведение пользователей в группах?  \n",
    "Сравним тест и контроль по тому, как они оценивали рекомендованные посты (*число лайков в группе / hitrate*)"
   ]
  },
  {
   "cell_type": "code",
   "execution_count": 61,
   "id": "7a58e27e-a3a9-4357-9c5f-a730e1e7ab30",
   "metadata": {},
   "outputs": [],
   "source": [
    "# табличка с группами юзеров\n",
    "users_group = views_cut[['user_id', 'exp_group']].drop_duplicates()\n",
    "\n",
    "# примерджим юзерам и группам их лайки\n",
    "users_group_like = users_group.merge(likes_for_users, how = 'left').fillna(0)\n",
    "\n",
    "# добавим колонку с фактом лайка показанной рекомендации для удобства\n",
    "users_group_like['is_like'] = np.where(users_group_like.likes_count != 0, 1, 0)"
   ]
  },
  {
   "cell_type": "code",
   "execution_count": 62,
   "id": "c3085064-4583-4949-950f-972d9f220754",
   "metadata": {},
   "outputs": [
    {
     "data": {
      "text/html": [
       "<div>\n",
       "<style scoped>\n",
       "    .dataframe tbody tr th:only-of-type {\n",
       "        vertical-align: middle;\n",
       "    }\n",
       "\n",
       "    .dataframe tbody tr th {\n",
       "        vertical-align: top;\n",
       "    }\n",
       "\n",
       "    .dataframe thead th {\n",
       "        text-align: right;\n",
       "    }\n",
       "</style>\n",
       "<table border=\"1\" class=\"dataframe\">\n",
       "  <thead>\n",
       "    <tr style=\"text-align: right;\">\n",
       "      <th></th>\n",
       "      <th>exp_group</th>\n",
       "      <th>likes_count</th>\n",
       "      <th>is_like</th>\n",
       "    </tr>\n",
       "  </thead>\n",
       "  <tbody>\n",
       "    <tr>\n",
       "      <th>0</th>\n",
       "      <td>control</td>\n",
       "      <td>3.487079</td>\n",
       "      <td>0.891314</td>\n",
       "    </tr>\n",
       "    <tr>\n",
       "      <th>1</th>\n",
       "      <td>test</td>\n",
       "      <td>3.592578</td>\n",
       "      <td>0.898160</td>\n",
       "    </tr>\n",
       "  </tbody>\n",
       "</table>\n",
       "</div>"
      ],
      "text/plain": [
       "  exp_group  likes_count   is_like\n",
       "0   control     3.487079  0.891314\n",
       "1      test     3.592578  0.898160"
      ]
     },
     "execution_count": 62,
     "metadata": {},
     "output_type": "execute_result"
    }
   ],
   "source": [
    "# посмотрим на средние метрики по группам\n",
    "users_group_like.groupby('exp_group', as_index = False)[['likes_count', 'is_like']].mean()"
   ]
  },
  {
   "cell_type": "code",
   "execution_count": 63,
   "id": "06abd889-418b-43ba-ba34-0ac0330b3233",
   "metadata": {},
   "outputs": [
    {
     "data": {
      "text/plain": [
       "MannwhitneyuResult(statistic=538160577.0, pvalue=2.9585062792441964e-05)"
      ]
     },
     "execution_count": 63,
     "metadata": {},
     "output_type": "execute_result"
    }
   ],
   "source": [
    "# число лайков в группе проверим критерием Манна-Уитни, поскольку лайки распределены логнормально\n",
    "# видно, что различия стат значимы при уровне значимости 0,05\n",
    "mannwhitneyu(\n",
    "    users_group_like[users_group_like.exp_group == 'test'].likes_count,\n",
    "    users_group_like[users_group_like.exp_group == 'control'].likes_count)"
   ]
  },
  {
   "cell_type": "markdown",
   "id": "d981edc7-7638-4084-bf90-a5189f7eb49e",
   "metadata": {},
   "source": [
    "### Высчитаем общий hitrate (доля рекомендаций, в которые пользователи кликнули)  \n",
    "Основная идея - распилим список рекомендаций по рекомендованным постам, примерджим к полученным данным лайки по айдишникам юзера и поста. Так мы увидим, было ли просмотрено что - то из рекомендованного каждым юзером и время просмотра. Ну и исходя из этого оценим метрику"
   ]
  },
  {
   "cell_type": "code",
   "execution_count": 64,
   "id": "159ef63b-df22-4dca-9d4a-232c13b8f20e",
   "metadata": {},
   "outputs": [],
   "source": [
    "views_cut['post_id'] = views_cut.recommendations.apply(lambda x: x[1:-1].split(' '))\n",
    "views_cut = views_cut.explode('post_id')\n",
    "views_cut = views_cut[views_cut.post_id != '']\n",
    "views_cut.post_id = views_cut.post_id.map(int)\n",
    "full_likes_views = views_cut.merge(likes_cut, how = 'left', on = ['user_id', 'post_id'])"
   ]
  },
  {
   "cell_type": "code",
   "execution_count": 65,
   "id": "f29e4f80-466e-491b-badd-351b5cedf1ef",
   "metadata": {},
   "outputs": [
    {
     "data": {
      "text/plain": [
       "(966573, 6)"
      ]
     },
     "execution_count": 65,
     "metadata": {},
     "output_type": "execute_result"
    }
   ],
   "source": [
    "# итоговая таблица с активностями сильно выросла\n",
    "full_likes_views.shape"
   ]
  },
  {
   "cell_type": "code",
   "execution_count": 66,
   "id": "0956c58c-a788-4252-a268-5577e6fdfe6f",
   "metadata": {},
   "outputs": [
    {
     "data": {
      "text/plain": [
       "193268"
      ]
     },
     "execution_count": 66,
     "metadata": {},
     "output_type": "execute_result"
    }
   ],
   "source": [
    "# общее число просмотров рекомендаций\n",
    "full_likes_views.recommendations.nunique()"
   ]
  },
  {
   "cell_type": "code",
   "execution_count": 67,
   "id": "fd90ede3-1e00-462d-a752-ef33427d4543",
   "metadata": {},
   "outputs": [],
   "source": [
    "# таблица с активностями, у которых зафиксировано время рекомендации и лайка соответствующих постов\n",
    "with_likes = full_likes_views[full_likes_views.timestamp_y.notna()]"
   ]
  },
  {
   "cell_type": "code",
   "execution_count": 68,
   "id": "ce277084-c454-48e2-baff-8cb4f63544ef",
   "metadata": {},
   "outputs": [
    {
     "data": {
      "text/plain": [
       "(230996, 6)"
      ]
     },
     "execution_count": 68,
     "metadata": {},
     "output_type": "execute_result"
    }
   ],
   "source": [
    "# почти 231 тысячу ранее рекомендованных постов лайкнули юзеры\n",
    "with_likes.shape"
   ]
  },
  {
   "cell_type": "code",
   "execution_count": 144,
   "id": "eb5deb8e-6994-4958-af79-56e37b1228ef",
   "metadata": {},
   "outputs": [
    {
     "data": {
      "text/plain": [
       "138066"
      ]
     },
     "execution_count": 144,
     "metadata": {},
     "output_type": "execute_result"
    }
   ],
   "source": [
    "# а это все показы рекомендаций, которые имеют лайки\n",
    "with_likes.recommendations.nunique()"
   ]
  },
  {
   "cell_type": "code",
   "execution_count": 141,
   "id": "4aef3c20-c11b-4e83-879c-75d447091969",
   "metadata": {},
   "outputs": [
    {
     "data": {
      "text/plain": [
       "0.7143758925429973"
      ]
     },
     "execution_count": 141,
     "metadata": {},
     "output_type": "execute_result"
    }
   ],
   "source": [
    "# доля показов рекомендаций, где был хоть один лайк\n",
    "# hitrate\n",
    "138066/193268"
   ]
  },
  {
   "cell_type": "markdown",
   "id": "a1765f4e-1a92-4680-9ee5-6f66538574ce",
   "metadata": {},
   "source": [
    "### Отличаются ли метрики тестовых групп между собой и значимо ли это различие?  \n",
    "Применим бакетный подход на 100 бакетов, чтобы посчитать групповой hitrate (доля hitrate по группе/бакету). Уровень значимости останется тем же на уровне 0.05."
   ]
  },
  {
   "cell_type": "code",
   "execution_count": 217,
   "id": "e0436420-6477-4c02-b233-88649e9ffffd",
   "metadata": {},
   "outputs": [
    {
     "data": {
      "text/html": [
       "<div>\n",
       "<style scoped>\n",
       "    .dataframe tbody tr th:only-of-type {\n",
       "        vertical-align: middle;\n",
       "    }\n",
       "\n",
       "    .dataframe tbody tr th {\n",
       "        vertical-align: top;\n",
       "    }\n",
       "\n",
       "    .dataframe thead th {\n",
       "        text-align: right;\n",
       "    }\n",
       "</style>\n",
       "<table border=\"1\" class=\"dataframe\">\n",
       "  <thead>\n",
       "    <tr style=\"text-align: right;\">\n",
       "      <th></th>\n",
       "      <th>user_id</th>\n",
       "      <th>exp_group</th>\n",
       "      <th>recommendations</th>\n",
       "      <th>timestamp_x</th>\n",
       "      <th>post_id</th>\n",
       "      <th>timestamp_y</th>\n",
       "    </tr>\n",
       "  </thead>\n",
       "  <tbody>\n",
       "    <tr>\n",
       "      <th>0</th>\n",
       "      <td>128381</td>\n",
       "      <td>control</td>\n",
       "      <td>[3644 4529 4704 5294 4808]</td>\n",
       "      <td>1654030803</td>\n",
       "      <td>3644</td>\n",
       "      <td>NaN</td>\n",
       "    </tr>\n",
       "    <tr>\n",
       "      <th>1</th>\n",
       "      <td>128381</td>\n",
       "      <td>control</td>\n",
       "      <td>[3644 4529 4704 5294 4808]</td>\n",
       "      <td>1654030803</td>\n",
       "      <td>4529</td>\n",
       "      <td>NaN</td>\n",
       "    </tr>\n",
       "    <tr>\n",
       "      <th>2</th>\n",
       "      <td>128381</td>\n",
       "      <td>control</td>\n",
       "      <td>[3644 4529 4704 5294 4808]</td>\n",
       "      <td>1654030803</td>\n",
       "      <td>4704</td>\n",
       "      <td>1.654031e+09</td>\n",
       "    </tr>\n",
       "    <tr>\n",
       "      <th>3</th>\n",
       "      <td>128381</td>\n",
       "      <td>control</td>\n",
       "      <td>[3644 4529 4704 5294 4808]</td>\n",
       "      <td>1654030803</td>\n",
       "      <td>5294</td>\n",
       "      <td>1.654031e+09</td>\n",
       "    </tr>\n",
       "    <tr>\n",
       "      <th>4</th>\n",
       "      <td>128381</td>\n",
       "      <td>control</td>\n",
       "      <td>[3644 4529 4704 5294 4808]</td>\n",
       "      <td>1654030803</td>\n",
       "      <td>4808</td>\n",
       "      <td>NaN</td>\n",
       "    </tr>\n",
       "  </tbody>\n",
       "</table>\n",
       "</div>"
      ],
      "text/plain": [
       "   user_id exp_group             recommendations  timestamp_x  post_id  \\\n",
       "0   128381   control  [3644 4529 4704 5294 4808]   1654030803     3644   \n",
       "1   128381   control  [3644 4529 4704 5294 4808]   1654030803     4529   \n",
       "2   128381   control  [3644 4529 4704 5294 4808]   1654030803     4704   \n",
       "3   128381   control  [3644 4529 4704 5294 4808]   1654030803     5294   \n",
       "4   128381   control  [3644 4529 4704 5294 4808]   1654030803     4808   \n",
       "\n",
       "    timestamp_y  \n",
       "0           NaN  \n",
       "1           NaN  \n",
       "2  1.654031e+09  \n",
       "3  1.654031e+09  \n",
       "4           NaN  "
      ]
     },
     "execution_count": 217,
     "metadata": {},
     "output_type": "execute_result"
    }
   ],
   "source": [
    "full_likes_views_bucket = full_likes_views.copy()\n",
    "full_likes_views_bucket.head()"
   ]
  },
  {
   "cell_type": "code",
   "execution_count": 218,
   "id": "a4fd145c-13b4-40f6-a8c9-a3e55f6817af",
   "metadata": {},
   "outputs": [
    {
     "data": {
      "text/html": [
       "<div>\n",
       "<style scoped>\n",
       "    .dataframe tbody tr th:only-of-type {\n",
       "        vertical-align: middle;\n",
       "    }\n",
       "\n",
       "    .dataframe tbody tr th {\n",
       "        vertical-align: top;\n",
       "    }\n",
       "\n",
       "    .dataframe thead th {\n",
       "        text-align: right;\n",
       "    }\n",
       "</style>\n",
       "<table border=\"1\" class=\"dataframe\">\n",
       "  <thead>\n",
       "    <tr style=\"text-align: right;\">\n",
       "      <th></th>\n",
       "      <th>user_id</th>\n",
       "      <th>exp_group</th>\n",
       "      <th>recommendations</th>\n",
       "      <th>timestamp_x</th>\n",
       "      <th>post_id</th>\n",
       "      <th>likes</th>\n",
       "    </tr>\n",
       "  </thead>\n",
       "  <tbody>\n",
       "    <tr>\n",
       "      <th>0</th>\n",
       "      <td>128381</td>\n",
       "      <td>control</td>\n",
       "      <td>[3644 4529 4704 5294 4808]</td>\n",
       "      <td>1654030803</td>\n",
       "      <td>3644</td>\n",
       "      <td>0</td>\n",
       "    </tr>\n",
       "    <tr>\n",
       "      <th>1</th>\n",
       "      <td>128381</td>\n",
       "      <td>control</td>\n",
       "      <td>[3644 4529 4704 5294 4808]</td>\n",
       "      <td>1654030803</td>\n",
       "      <td>4529</td>\n",
       "      <td>0</td>\n",
       "    </tr>\n",
       "    <tr>\n",
       "      <th>2</th>\n",
       "      <td>128381</td>\n",
       "      <td>control</td>\n",
       "      <td>[3644 4529 4704 5294 4808]</td>\n",
       "      <td>1654030803</td>\n",
       "      <td>4704</td>\n",
       "      <td>1</td>\n",
       "    </tr>\n",
       "    <tr>\n",
       "      <th>3</th>\n",
       "      <td>128381</td>\n",
       "      <td>control</td>\n",
       "      <td>[3644 4529 4704 5294 4808]</td>\n",
       "      <td>1654030803</td>\n",
       "      <td>5294</td>\n",
       "      <td>1</td>\n",
       "    </tr>\n",
       "    <tr>\n",
       "      <th>4</th>\n",
       "      <td>128381</td>\n",
       "      <td>control</td>\n",
       "      <td>[3644 4529 4704 5294 4808]</td>\n",
       "      <td>1654030803</td>\n",
       "      <td>4808</td>\n",
       "      <td>0</td>\n",
       "    </tr>\n",
       "  </tbody>\n",
       "</table>\n",
       "</div>"
      ],
      "text/plain": [
       "   user_id exp_group             recommendations  timestamp_x  post_id  likes\n",
       "0   128381   control  [3644 4529 4704 5294 4808]   1654030803     3644      0\n",
       "1   128381   control  [3644 4529 4704 5294 4808]   1654030803     4529      0\n",
       "2   128381   control  [3644 4529 4704 5294 4808]   1654030803     4704      1\n",
       "3   128381   control  [3644 4529 4704 5294 4808]   1654030803     5294      1\n",
       "4   128381   control  [3644 4529 4704 5294 4808]   1654030803     4808      0"
      ]
     },
     "execution_count": 218,
     "metadata": {},
     "output_type": "execute_result"
    }
   ],
   "source": [
    "# добавим лайки юзеров\n",
    "full_likes_views_bucket['likes'] = np.where(full_likes_views_bucket.timestamp_y == full_likes_views_bucket.timestamp_y, 1,0)\n",
    "full_likes_views_bucket.drop(columns = 'timestamp_y',axis = 1, inplace = True)\n",
    "full_likes_views_bucket.head()"
   ]
  },
  {
   "cell_type": "code",
   "execution_count": 219,
   "id": "fd7ba570-86dc-4745-9b78-42cdf32975d4",
   "metadata": {},
   "outputs": [],
   "source": [
    "# подготовим бакеты\n",
    "import hashlib\n",
    "\n",
    "full_likes_views_bucket['bucket'] = full_likes_views_bucket['user_id'].apply(\n",
    "    lambda x: int(hashlib.md5((str(x) + 'bbb').encode()).hexdigest(), 16) % 100\n",
    ")"
   ]
  },
  {
   "cell_type": "code",
   "execution_count": 220,
   "id": "fcfa3339-91d2-4fe7-b215-cefc3dce70e4",
   "metadata": {},
   "outputs": [
    {
     "data": {
      "text/html": [
       "<div>\n",
       "<style scoped>\n",
       "    .dataframe tbody tr th:only-of-type {\n",
       "        vertical-align: middle;\n",
       "    }\n",
       "\n",
       "    .dataframe tbody tr th {\n",
       "        vertical-align: top;\n",
       "    }\n",
       "\n",
       "    .dataframe thead th {\n",
       "        text-align: right;\n",
       "    }\n",
       "</style>\n",
       "<table border=\"1\" class=\"dataframe\">\n",
       "  <thead>\n",
       "    <tr style=\"text-align: right;\">\n",
       "      <th></th>\n",
       "      <th>exp_group</th>\n",
       "      <th>bucket</th>\n",
       "      <th>recommendations</th>\n",
       "      <th>user_id</th>\n",
       "      <th>timestamp_x</th>\n",
       "      <th>post_id</th>\n",
       "      <th>likes</th>\n",
       "      <th>view</th>\n",
       "    </tr>\n",
       "  </thead>\n",
       "  <tbody>\n",
       "    <tr>\n",
       "      <th>0</th>\n",
       "      <td>control</td>\n",
       "      <td>0</td>\n",
       "      <td>[   3 4395 7231 1846 4653]</td>\n",
       "      <td>706345</td>\n",
       "      <td>8271085790</td>\n",
       "      <td>18128</td>\n",
       "      <td>0</td>\n",
       "      <td>1</td>\n",
       "    </tr>\n",
       "    <tr>\n",
       "      <th>1</th>\n",
       "      <td>control</td>\n",
       "      <td>0</td>\n",
       "      <td>[   3 6141 2731   34 6702]</td>\n",
       "      <td>518135</td>\n",
       "      <td>8271444070</td>\n",
       "      <td>15611</td>\n",
       "      <td>1</td>\n",
       "      <td>1</td>\n",
       "    </tr>\n",
       "    <tr>\n",
       "      <th>2</th>\n",
       "      <td>control</td>\n",
       "      <td>0</td>\n",
       "      <td>[  15 2858 1602 1026 6482]</td>\n",
       "      <td>395885</td>\n",
       "      <td>8274989660</td>\n",
       "      <td>11983</td>\n",
       "      <td>1</td>\n",
       "      <td>1</td>\n",
       "    </tr>\n",
       "    <tr>\n",
       "      <th>3</th>\n",
       "      <td>control</td>\n",
       "      <td>0</td>\n",
       "      <td>[  43 1277 6110 1743 1311]</td>\n",
       "      <td>375540</td>\n",
       "      <td>8275896595</td>\n",
       "      <td>10484</td>\n",
       "      <td>1</td>\n",
       "      <td>1</td>\n",
       "    </tr>\n",
       "    <tr>\n",
       "      <th>4</th>\n",
       "      <td>control</td>\n",
       "      <td>0</td>\n",
       "      <td>[  46 6572 7307  131 1465]</td>\n",
       "      <td>720855</td>\n",
       "      <td>8270863090</td>\n",
       "      <td>15521</td>\n",
       "      <td>1</td>\n",
       "      <td>1</td>\n",
       "    </tr>\n",
       "  </tbody>\n",
       "</table>\n",
       "</div>"
      ],
      "text/plain": [
       "  exp_group  bucket             recommendations  user_id  timestamp_x  \\\n",
       "0   control       0  [   3 4395 7231 1846 4653]   706345   8271085790   \n",
       "1   control       0  [   3 6141 2731   34 6702]   518135   8271444070   \n",
       "2   control       0  [  15 2858 1602 1026 6482]   395885   8274989660   \n",
       "3   control       0  [  43 1277 6110 1743 1311]   375540   8275896595   \n",
       "4   control       0  [  46 6572 7307  131 1465]   720855   8270863090   \n",
       "\n",
       "   post_id  likes  view  \n",
       "0    18128      0     1  \n",
       "1    15611      1     1  \n",
       "2    11983      1     1  \n",
       "3    10484      1     1  \n",
       "4    15521      1     1  "
      ]
     },
     "execution_count": 220,
     "metadata": {},
     "output_type": "execute_result"
    }
   ],
   "source": [
    "# посчитаем лайки и просмотры по каждой рекомендации\n",
    "buckets = full_likes_views_bucket.groupby(['exp_group', 'bucket', 'recommendations'], as_index = False).sum('likes')\n",
    "buckets.likes = np.where(buckets.likes == 0, 0, 1)\n",
    "buckets['view'] = 1\n",
    "buckets.head()"
   ]
  },
  {
   "cell_type": "code",
   "execution_count": 221,
   "id": "1389ecce-931c-4ab5-8df5-c30ec850b157",
   "metadata": {},
   "outputs": [
    {
     "data": {
      "text/plain": [
       "exp_group\n",
       "control    0.707695\n",
       "test       0.720972\n",
       "Name: bucket_hitrate, dtype: float64"
      ]
     },
     "execution_count": 221,
     "metadata": {},
     "output_type": "execute_result"
    }
   ],
   "source": [
    "# сгруппируем по бакетам тестовых групп и посчитаем метрики для каждого бакета\n",
    "buckets_res = buckets.groupby(['exp_group', 'bucket'], as_index = False).sum(['likes', 'views'])\n",
    "buckets_res['bucket_hitrate'] = buckets_res.likes / buckets_res.view\n",
    "buckets_res.groupby('exp_group').bucket_hitrate.mean()"
   ]
  },
  {
   "cell_type": "markdown",
   "id": "e9f9e03a-98eb-4ceb-8df5-3f7c5fc3f886",
   "metadata": {},
   "source": [
    "Видно, что в тесте метрика увеличилась на 2пп, необходимо проверить значимость изменений (используем все так же Манна - Уитни)"
   ]
  },
  {
   "cell_type": "code",
   "execution_count": 224,
   "id": "02d7d8f9-846a-42e2-8cac-91d03b40da61",
   "metadata": {},
   "outputs": [
    {
     "data": {
      "text/plain": [
       "MannwhitneyuResult(statistic=7548.0, pvalue=4.829847062588435e-10)"
      ]
     },
     "execution_count": 224,
     "metadata": {},
     "output_type": "execute_result"
    }
   ],
   "source": [
    "# рассмотренные распределения различаются значимо\n",
    "# hitrate в тестовой группе вырос\n",
    "mannwhitneyu(buckets_res[buckets_res.exp_group == 'test'].bucket_hitrate, buckets_res[buckets_res.exp_group == 'control'].bucket_hitrate)"
   ]
  }
 ],
 "metadata": {
  "kernelspec": {
   "display_name": "Python 3 (ipykernel)",
   "language": "python",
   "name": "python3"
  },
  "language_info": {
   "codemirror_mode": {
    "name": "ipython",
    "version": 3
   },
   "file_extension": ".py",
   "mimetype": "text/x-python",
   "name": "python",
   "nbconvert_exporter": "python",
   "pygments_lexer": "ipython3",
   "version": "3.8.10"
  }
 },
 "nbformat": 4,
 "nbformat_minor": 5
}
